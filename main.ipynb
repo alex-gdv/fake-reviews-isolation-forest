{
 "cells": [
  {
   "cell_type": "markdown",
   "id": "339bc2e3",
   "metadata": {},
   "source": [
    "# Scenario\n",
    "\n",
    "The data science team at the CMA have received some complaints from consumers about the number of fake product reviews on a website that sells coffee tables. The complaints allege that coffee table sellers have been trying to mislead consumers by acquiring reviews on their products that do not represent a true customer experience, with the aim of boosting their sales. You have been provided with a dataset of reviews on this website containing the following fields in the `data.parquet` file:\n",
    "\n",
    "* review_id: the primary key of the dataset, each row of the dataset represents an individual review with a unique identifier\n",
    "* product_id: an identifier for the coffee table\n",
    "* reviewer_id: an identifier for the user leaving the review\n",
    "* review_rating: a score given to the product by the user, out of 5\n",
    "* review_text: the full text of the review left by the user. This can be blank where the user left a rating only\n",
    "* review_date: the date the review was posted. The dataset covers the full year to 31 December 2022.\n",
    "\n",
    "The dataset can be loaded using:\n",
    "```\n",
    "import pandas as pd\n",
    "data = pd.read_parquet(\"data.parquet\")\n",
    "```\n",
    "(assuming the data.parquet file is in the same directory as the jupyter notebook)"
   ]
  },
  {
   "cell_type": "markdown",
   "id": "02e4f4f1",
   "metadata": {},
   "source": [
    "#### Question 1.\n",
    "\n",
    "With consideration to the objective of identifying fake reviews, carry out a brief exploratory analysis on the dataset and identify some interesting features. Include a short explanation of any findings."
   ]
  },
  {
   "cell_type": "markdown",
   "id": "341f10c2",
   "metadata": {},
   "source": [
    "_Your answer:_"
   ]
  },
  {
   "cell_type": "code",
   "execution_count": 304,
   "id": "434aa2ef-7ea7-4a62-a964-22cc150a3c93",
   "metadata": {},
   "outputs": [
    {
     "data": {
      "text/html": [
       "<div>\n",
       "<style scoped>\n",
       "    .dataframe tbody tr th:only-of-type {\n",
       "        vertical-align: middle;\n",
       "    }\n",
       "\n",
       "    .dataframe tbody tr th {\n",
       "        vertical-align: top;\n",
       "    }\n",
       "\n",
       "    .dataframe thead th {\n",
       "        text-align: right;\n",
       "    }\n",
       "</style>\n",
       "<table border=\"1\" class=\"dataframe\">\n",
       "  <thead>\n",
       "    <tr style=\"text-align: right;\">\n",
       "      <th></th>\n",
       "      <th>review_id</th>\n",
       "      <th>product_id</th>\n",
       "      <th>reviewer_id</th>\n",
       "      <th>review_rating</th>\n",
       "      <th>review_text</th>\n",
       "      <th>review_date</th>\n",
       "    </tr>\n",
       "  </thead>\n",
       "  <tbody>\n",
       "    <tr>\n",
       "      <th>0</th>\n",
       "      <td>1</td>\n",
       "      <td>6</td>\n",
       "      <td>529</td>\n",
       "      <td>5.0</td>\n",
       "      <td>None</td>\n",
       "      <td>2022-01-01</td>\n",
       "    </tr>\n",
       "    <tr>\n",
       "      <th>1</th>\n",
       "      <td>2</td>\n",
       "      <td>11</td>\n",
       "      <td>97</td>\n",
       "      <td>5.0</td>\n",
       "      <td>None</td>\n",
       "      <td>2022-01-01</td>\n",
       "    </tr>\n",
       "    <tr>\n",
       "      <th>2</th>\n",
       "      <td>3</td>\n",
       "      <td>18</td>\n",
       "      <td>1371</td>\n",
       "      <td>2.0</td>\n",
       "      <td>2/5 Stars - Subpar. It feels flimsy and cheap,...</td>\n",
       "      <td>2022-01-01</td>\n",
       "    </tr>\n",
       "    <tr>\n",
       "      <th>3</th>\n",
       "      <td>4</td>\n",
       "      <td>5</td>\n",
       "      <td>399</td>\n",
       "      <td>5.0</td>\n",
       "      <td>None</td>\n",
       "      <td>2022-01-01</td>\n",
       "    </tr>\n",
       "    <tr>\n",
       "      <th>4</th>\n",
       "      <td>5</td>\n",
       "      <td>15</td>\n",
       "      <td>1214</td>\n",
       "      <td>2.0</td>\n",
       "      <td>None</td>\n",
       "      <td>2022-01-01</td>\n",
       "    </tr>\n",
       "    <tr>\n",
       "      <th>...</th>\n",
       "      <td>...</td>\n",
       "      <td>...</td>\n",
       "      <td>...</td>\n",
       "      <td>...</td>\n",
       "      <td>...</td>\n",
       "      <td>...</td>\n",
       "    </tr>\n",
       "    <tr>\n",
       "      <th>3239</th>\n",
       "      <td>3240</td>\n",
       "      <td>17</td>\n",
       "      <td>2922</td>\n",
       "      <td>5.0</td>\n",
       "      <td>None</td>\n",
       "      <td>2022-12-30</td>\n",
       "    </tr>\n",
       "    <tr>\n",
       "      <th>3240</th>\n",
       "      <td>3241</td>\n",
       "      <td>19</td>\n",
       "      <td>1510</td>\n",
       "      <td>5.0</td>\n",
       "      <td>None</td>\n",
       "      <td>2022-12-30</td>\n",
       "    </tr>\n",
       "    <tr>\n",
       "      <th>3241</th>\n",
       "      <td>3242</td>\n",
       "      <td>4</td>\n",
       "      <td>2994</td>\n",
       "      <td>1.0</td>\n",
       "      <td>None</td>\n",
       "      <td>2022-12-30</td>\n",
       "    </tr>\n",
       "    <tr>\n",
       "      <th>3242</th>\n",
       "      <td>3243</td>\n",
       "      <td>2</td>\n",
       "      <td>2597</td>\n",
       "      <td>4.0</td>\n",
       "      <td>None</td>\n",
       "      <td>2022-12-30</td>\n",
       "    </tr>\n",
       "    <tr>\n",
       "      <th>3243</th>\n",
       "      <td>3244</td>\n",
       "      <td>9</td>\n",
       "      <td>599</td>\n",
       "      <td>5.0</td>\n",
       "      <td>None</td>\n",
       "      <td>2022-12-30</td>\n",
       "    </tr>\n",
       "  </tbody>\n",
       "</table>\n",
       "<p>3244 rows × 6 columns</p>\n",
       "</div>"
      ],
      "text/plain": [
       "      review_id  product_id  reviewer_id  review_rating  \\\n",
       "0             1           6          529            5.0   \n",
       "1             2          11           97            5.0   \n",
       "2             3          18         1371            2.0   \n",
       "3             4           5          399            5.0   \n",
       "4             5          15         1214            2.0   \n",
       "...         ...         ...          ...            ...   \n",
       "3239       3240          17         2922            5.0   \n",
       "3240       3241          19         1510            5.0   \n",
       "3241       3242           4         2994            1.0   \n",
       "3242       3243           2         2597            4.0   \n",
       "3243       3244           9          599            5.0   \n",
       "\n",
       "                                            review_text review_date  \n",
       "0                                                  None  2022-01-01  \n",
       "1                                                  None  2022-01-01  \n",
       "2     2/5 Stars - Subpar. It feels flimsy and cheap,...  2022-01-01  \n",
       "3                                                  None  2022-01-01  \n",
       "4                                                  None  2022-01-01  \n",
       "...                                                 ...         ...  \n",
       "3239                                               None  2022-12-30  \n",
       "3240                                               None  2022-12-30  \n",
       "3241                                               None  2022-12-30  \n",
       "3242                                               None  2022-12-30  \n",
       "3243                                               None  2022-12-30  \n",
       "\n",
       "[3244 rows x 6 columns]"
      ]
     },
     "execution_count": 304,
     "metadata": {},
     "output_type": "execute_result"
    }
   ],
   "source": [
    "%matplotlib inline \n",
    "import pandas as pd\n",
    "import numpy as np\n",
    "import matplotlib.pyplot as plt\n",
    "data = pd.read_parquet(\"data.parquet\")\n",
    "data"
   ]
  },
  {
   "cell_type": "code",
   "execution_count": 305,
   "id": "991b80f5",
   "metadata": {},
   "outputs": [
    {
     "name": "stdout",
     "output_type": "stream",
     "text": [
      "Number of products: 26\n",
      "Number of reviewers: 2793\n",
      "Users with the most reviews:\n",
      "reviewer_id\n",
      "399     26\n",
      "902     26\n",
      "100     26\n",
      "1496    25\n",
      "1000    21\n",
      "95      20\n",
      "599     20\n",
      "527     20\n",
      "784     19\n",
      "453     19\n",
      "Name: count, dtype: int64\n"
     ]
    },
    {
     "data": {
      "text/plain": [
       "[<matplotlib.lines.Line2D at 0x1b69ce56c50>]"
      ]
     },
     "execution_count": 305,
     "metadata": {},
     "output_type": "execute_result"
    },
    {
     "data": {
      "image/png": "[encoded data removed]",
      "text/plain": [
       "<Figure size 640x480 with 1 Axes>"
      ]
     },
     "metadata": {},
     "output_type": "display_data"
    }
   ],
   "source": [
    "print(\"Number of products:\", len(data[\"product_id\"].unique()))\n",
    "print(\"Number of reviewers:\", len(data[\"reviewer_id\"].unique()))\n",
    "user_reviews_count = data[\"reviewer_id\"].value_counts()\n",
    "print(\"Users with the most reviews:\")\n",
    "print(user_reviews_count[:10])\n",
    "user_reviews_count_sum_lst = []\n",
    "i = 1\n",
    "user_reviews_count_sum = (data[\"reviewer_id\"].value_counts() > 1).sum()\n",
    "while user_reviews_count_sum > 0:\n",
    "    user_reviews_count_sum_lst.append(user_reviews_count_sum)\n",
    "    i += 1\n",
    "    user_reviews_count_sum = (data[\"reviewer_id\"].value_counts() > i).sum()\n",
    "x = np.arange(1, i)\n",
    "y = np.array(user_reviews_count_sum_lst)\n",
    "plt.plot(x, y)"
   ]
  },
  {
   "cell_type": "markdown",
   "id": "a3c1be59",
   "metadata": {},
   "source": [
    "The graph above shows the number of users (y-axis) who have written more than x reviews.\n",
    "\n",
    "\n",
    "With the provided dataset as our sole criteria, we cannot assume that a user with one review has written a fake review. Instead, we should focus on users with multiple reviews. There are 2793 users. Only 78 have more than one review. "
   ]
  },
  {
   "cell_type": "code",
   "execution_count": 306,
   "id": "3b17613f",
   "metadata": {},
   "outputs": [
    {
     "data": {
      "text/html": [
       "<div>\n",
       "<style scoped>\n",
       "    .dataframe tbody tr th:only-of-type {\n",
       "        vertical-align: middle;\n",
       "    }\n",
       "\n",
       "    .dataframe tbody tr th {\n",
       "        vertical-align: top;\n",
       "    }\n",
       "\n",
       "    .dataframe thead th {\n",
       "        text-align: right;\n",
       "    }\n",
       "</style>\n",
       "<table border=\"1\" class=\"dataframe\">\n",
       "  <thead>\n",
       "    <tr style=\"text-align: right;\">\n",
       "      <th></th>\n",
       "      <th>review_id</th>\n",
       "      <th>product_id</th>\n",
       "      <th>reviewer_id</th>\n",
       "      <th>review_rating</th>\n",
       "      <th>review_text</th>\n",
       "      <th>review_date</th>\n",
       "    </tr>\n",
       "  </thead>\n",
       "  <tbody>\n",
       "    <tr>\n",
       "      <th>2</th>\n",
       "      <td>3</td>\n",
       "      <td>18</td>\n",
       "      <td>1371</td>\n",
       "      <td>2.0</td>\n",
       "      <td>2/5 Stars - Subpar. It feels flimsy and cheap,...</td>\n",
       "      <td>2022-01-01</td>\n",
       "    </tr>\n",
       "    <tr>\n",
       "      <th>14</th>\n",
       "      <td>15</td>\n",
       "      <td>1</td>\n",
       "      <td>2463</td>\n",
       "      <td>5.0</td>\n",
       "      <td>5/5 Stars - Fantastic.</td>\n",
       "      <td>2022-01-02</td>\n",
       "    </tr>\n",
       "    <tr>\n",
       "      <th>38</th>\n",
       "      <td>39</td>\n",
       "      <td>15</td>\n",
       "      <td>2134</td>\n",
       "      <td>5.0</td>\n",
       "      <td>5/5 Stars - Elegant and Functional: I am absol...</td>\n",
       "      <td>2022-01-05</td>\n",
       "    </tr>\n",
       "    <tr>\n",
       "      <th>43</th>\n",
       "      <td>44</td>\n",
       "      <td>13</td>\n",
       "      <td>2525</td>\n",
       "      <td>5.0</td>\n",
       "      <td>5/5 Stars - Wow! Modern elegance personified.</td>\n",
       "      <td>2022-01-06</td>\n",
       "    </tr>\n",
       "    <tr>\n",
       "      <th>74</th>\n",
       "      <td>75</td>\n",
       "      <td>3</td>\n",
       "      <td>157</td>\n",
       "      <td>5.0</td>\n",
       "      <td>5/5 Stars - Modern Minimalism: I love the mini...</td>\n",
       "      <td>2022-01-11</td>\n",
       "    </tr>\n",
       "    <tr>\n",
       "      <th>...</th>\n",
       "      <td>...</td>\n",
       "      <td>...</td>\n",
       "      <td>...</td>\n",
       "      <td>...</td>\n",
       "      <td>...</td>\n",
       "      <td>...</td>\n",
       "    </tr>\n",
       "    <tr>\n",
       "      <th>3171</th>\n",
       "      <td>3172</td>\n",
       "      <td>2</td>\n",
       "      <td>2920</td>\n",
       "      <td>1.0</td>\n",
       "      <td>1/5 Stars - Total Letdown, what a disappointme...</td>\n",
       "      <td>2022-12-18</td>\n",
       "    </tr>\n",
       "    <tr>\n",
       "      <th>3187</th>\n",
       "      <td>3188</td>\n",
       "      <td>3</td>\n",
       "      <td>2611</td>\n",
       "      <td>5.0</td>\n",
       "      <td>5/5 Stars - Modern Minimalism: I love the mini...</td>\n",
       "      <td>2022-12-21</td>\n",
       "    </tr>\n",
       "    <tr>\n",
       "      <th>3193</th>\n",
       "      <td>3194</td>\n",
       "      <td>21</td>\n",
       "      <td>1376</td>\n",
       "      <td>5.0</td>\n",
       "      <td>5/5 Stars - I adore the simplicity of this pot...</td>\n",
       "      <td>2022-12-22</td>\n",
       "    </tr>\n",
       "    <tr>\n",
       "      <th>3195</th>\n",
       "      <td>3196</td>\n",
       "      <td>21</td>\n",
       "      <td>2951</td>\n",
       "      <td>3.0</td>\n",
       "      <td>3/5 Stars - Average Quality: The pot's appeara...</td>\n",
       "      <td>2022-12-23</td>\n",
       "    </tr>\n",
       "    <tr>\n",
       "      <th>3217</th>\n",
       "      <td>3218</td>\n",
       "      <td>26</td>\n",
       "      <td>1558</td>\n",
       "      <td>1.0</td>\n",
       "      <td>1/5 Stars - Horrendous. Flimsy mess, utter dis...</td>\n",
       "      <td>2022-12-27</td>\n",
       "    </tr>\n",
       "  </tbody>\n",
       "</table>\n",
       "<p>293 rows × 6 columns</p>\n",
       "</div>"
      ],
      "text/plain": [
       "      review_id  product_id  reviewer_id  review_rating  \\\n",
       "2             3          18         1371            2.0   \n",
       "14           15           1         2463            5.0   \n",
       "38           39          15         2134            5.0   \n",
       "43           44          13         2525            5.0   \n",
       "74           75           3          157            5.0   \n",
       "...         ...         ...          ...            ...   \n",
       "3171       3172           2         2920            1.0   \n",
       "3187       3188           3         2611            5.0   \n",
       "3193       3194          21         1376            5.0   \n",
       "3195       3196          21         2951            3.0   \n",
       "3217       3218          26         1558            1.0   \n",
       "\n",
       "                                            review_text review_date  \n",
       "2     2/5 Stars - Subpar. It feels flimsy and cheap,...  2022-01-01  \n",
       "14                               5/5 Stars - Fantastic.  2022-01-02  \n",
       "38    5/5 Stars - Elegant and Functional: I am absol...  2022-01-05  \n",
       "43        5/5 Stars - Wow! Modern elegance personified.  2022-01-06  \n",
       "74    5/5 Stars - Modern Minimalism: I love the mini...  2022-01-11  \n",
       "...                                                 ...         ...  \n",
       "3171  1/5 Stars - Total Letdown, what a disappointme...  2022-12-18  \n",
       "3187  5/5 Stars - Modern Minimalism: I love the mini...  2022-12-21  \n",
       "3193  5/5 Stars - I adore the simplicity of this pot...  2022-12-22  \n",
       "3195  3/5 Stars - Average Quality: The pot's appeara...  2022-12-23  \n",
       "3217  1/5 Stars - Horrendous. Flimsy mess, utter dis...  2022-12-27  \n",
       "\n",
       "[293 rows x 6 columns]"
      ]
     },
     "execution_count": 306,
     "metadata": {},
     "output_type": "execute_result"
    }
   ],
   "source": [
    "data_review_text = data[~data[\"review_text\"].isnull()]\n",
    "data_review_text"
   ]
  },
  {
   "cell_type": "code",
   "execution_count": 307,
   "id": "e85f6ed6",
   "metadata": {},
   "outputs": [
    {
     "name": "stdout",
     "output_type": "stream",
     "text": [
      "Number of reviews with text: 293\n",
      "Number of users who have written at least one review: 293\n"
     ]
    },
    {
     "data": {
      "text/plain": [
       "reviewer_id\n",
       "1371    1\n",
       "2463    1\n",
       "2134    1\n",
       "2525    1\n",
       "157     1\n",
       "       ..\n",
       "2920    1\n",
       "2611    1\n",
       "1376    1\n",
       "2951    1\n",
       "1558    1\n",
       "Name: count, Length: 293, dtype: int64"
      ]
     },
     "execution_count": 307,
     "metadata": {},
     "output_type": "execute_result"
    }
   ],
   "source": [
    "print(\"Number of reviews with text:\", len(data_review_text))\n",
    "print(\"Number of users who have written at least one review:\", len((data_review_text[\"reviewer_id\"].unique())))\n",
    "user_reviews_count[data_review_text[\"reviewer_id\"].unique()]"
   ]
  },
  {
   "cell_type": "markdown",
   "id": "9dc9e07c",
   "metadata": {},
   "source": [
    "All reviews with text come from users with only one review. Furthermore, less than 10% of all reviews have text. Given these insights, we can assume that written reviews come from real users and focus on a more significant aspect of the dataset."
   ]
  },
  {
   "cell_type": "code",
   "execution_count": 308,
   "metadata": {},
   "outputs": [
    {
     "data": {
      "text/plain": [
       "<matplotlib.collections.PathCollection at 0x1b69cee1d10>"
      ]
     },
     "execution_count": 308,
     "metadata": {},
     "output_type": "execute_result"
    },
    {
     "data": {
      "image/png": "[encoded data removed]",
      "text/plain": [
       "<Figure size 640x480 with 1 Axes>"
      ]
     },
     "metadata": {},
     "output_type": "display_data"
    }
   ],
   "source": [
    "def find_mean_std_time_between_reviews(id, elem):\n",
    "    diff_lst = []\n",
    "    prev_date = None\n",
    "    curr_date = None\n",
    "    for review in data[data[elem] == id].iterrows():\n",
    "        if prev_date is None:\n",
    "            prev_date = review[1][\"review_date\"]\n",
    "        else:\n",
    "            curr_date = review[1][\"review_date\"]\n",
    "            diff = (curr_date - prev_date).days\n",
    "            diff_lst.append(diff)\n",
    "            prev_date = curr_date\n",
    "    diff_arr = np.array(diff_lst) if len(diff_lst) > 0 else np.array([365])\n",
    "    return diff_arr.mean(), diff_arr.std()\n",
    "\n",
    "mean_times = []\n",
    "std_times = []\n",
    "for user_id in user_reviews_count[user_reviews_count > 1].index:\n",
    "    mean_time, std_time = find_mean_std_time_between_reviews(user_id, \"reviewer_id\")\n",
    "    mean_times.append(mean_time)\n",
    "    std_times.append(std_time)\n",
    "mean_times = np.array(mean_times)\n",
    "std_times = np.array(std_times)\n",
    "x = np.array(user_reviews_count[user_reviews_count > 1])\n",
    "plt.scatter(x, mean_times)\n"
   ]
  },
  {
   "cell_type": "markdown",
   "id": "f2e53ce7",
   "metadata": {},
   "source": [
    "The graph above shows the mean elapsed time between consecutive reviews on the y-axis and the total number of reviews a user has on the x-axis. We excluded the error bars from the graph as they were not helpful.\n",
    "\n",
    "As expected, the more reviews a user has, the smaller the mean time between consecutive reviews. If some users are writing fake reviews, they are not writing them in a short period. The potentially fake users may be scattering their reviews over time to avoid arousing suspicion.\n",
    "\n",
    "We will explore the relationship between reviews and products next."
   ]
  },
  {
   "cell_type": "code",
   "execution_count": 309,
   "id": "1cdfd429",
   "metadata": {},
   "outputs": [
    {
     "data": {
      "text/plain": [
       "<ErrorbarContainer object of 3 artists>"
      ]
     },
     "execution_count": 309,
     "metadata": {},
     "output_type": "execute_result"
    },
    {
     "data": {
      "image/png": "[encoded data removed]",
      "text/plain": [
       "<Figure size 640x480 with 1 Axes>"
      ]
     },
     "metadata": {},
     "output_type": "display_data"
    }
   ],
   "source": [
    "mean_times = []\n",
    "std_times = []\n",
    "for product_id in data[\"product_id\"].unique():\n",
    "    mean_time, std_time = find_mean_std_time_between_reviews(product_id, \"product_id\")\n",
    "    mean_times.append(mean_time)\n",
    "    std_times.append(std_time)\n",
    "mean_times = pd.Series(mean_times, index=data[\"product_id\"].unique()).reindex(data[\"product_id\"].value_counts().index)\n",
    "std_times = pd.Series(std_times, index=data[\"product_id\"].unique()).reindex(data[\"product_id\"].value_counts().index)\n",
    "x = np.array(data[\"product_id\"].value_counts())\n",
    "plt.errorbar(x, mean_times, yerr=std_times, fmt=\"o\")"
   ]
  },
  {
   "cell_type": "markdown",
   "id": "09c96eb7",
   "metadata": {},
   "source": [
    "The graph above shows the mean elapsed time between consecutive reviews on the y-axis and the total number of reviews a product has on the x-axis.\n",
    "\n",
    "As expected, the more reviews a product has, the smaller the mean time between consecutive reviews. We can see a natural decrease in the standard deviation of the data points. If products are receiving fake reviews, they are being scattered over time.\n",
    "\n",
    "The exception to the above comment are products 16, 20, and 5, which have a noticeably higher standard deviation than the adjacent data points."
   ]
  },
  {
   "cell_type": "code",
   "execution_count": 310,
   "id": "8a50c535",
   "metadata": {},
   "outputs": [
    {
     "data": {
      "text/plain": [
       "<ErrorbarContainer object of 3 artists>"
      ]
     },
     "execution_count": 310,
     "metadata": {},
     "output_type": "execute_result"
    },
    {
     "data": {
      "image/png": "[encoded data removed]",
      "text/plain": [
       "<Figure size 640x480 with 1 Axes>"
      ]
     },
     "metadata": {},
     "output_type": "display_data"
    }
   ],
   "source": [
    "def find_mean_std_review_rating(id, elem):\n",
    "    ratings = []\n",
    "    for review in data[data[elem] == id].iterrows():\n",
    "        ratings.append(review[1][\"review_rating\"])\n",
    "    ratings_arr = np.array(ratings)\n",
    "    return ratings_arr.mean(), ratings_arr.std()\n",
    "\n",
    "mean_ratings = []\n",
    "std_ratings = []\n",
    "for product_id in data[\"product_id\"].unique():\n",
    "    mean_r, std_r = find_mean_std_review_rating(product_id, \"product_id\")\n",
    "    mean_ratings.append(mean_r)\n",
    "    std_ratings.append(std_r)\n",
    "mean_ratings = pd.Series(mean_ratings, index=data[\"product_id\"].unique()).reindex(data[\"product_id\"].value_counts().index)\n",
    "std_ratings = pd.Series(std_ratings, index=data[\"product_id\"].unique()).reindex(data[\"product_id\"].value_counts().index)\n",
    "x = np.array(data[\"product_id\"].value_counts())\n",
    "plt.errorbar(x, mean_ratings, yerr=std_ratings, fmt=\"o\")"
   ]
  },
  {
   "cell_type": "markdown",
   "id": "b631d437",
   "metadata": {},
   "source": [
    "The graph above shows the average rating of a product on the y-axis and the number of reviews a product has on the x-axis.\n",
    "\n",
    "We can observe that most products have a similar standard deviation for their rating. However, once again, product 16 is an exception. It has a high rating and a low standard deviation. If we also consider the previous insight, we could suspect that product 16 has a high number of fake reviews.\n",
    "\n",
    "Another noticeable exceptions are products 20 and 21. However, a smaller number of high-scoring reviews may be causing the lower standard deviation seen in product 21, i.e. the product may be a niche high-quality product."
   ]
  },
  {
   "cell_type": "code",
   "execution_count": 311,
   "id": "f0101980",
   "metadata": {},
   "outputs": [
    {
     "data": {
      "text/plain": [
       "<ErrorbarContainer object of 3 artists>"
      ]
     },
     "execution_count": 311,
     "metadata": {},
     "output_type": "execute_result"
    },
    {
     "data": {
      "image/png": "[encoded data removed]",
      "text/plain": [
       "<Figure size 640x480 with 1 Axes>"
      ]
     },
     "metadata": {},
     "output_type": "display_data"
    }
   ],
   "source": [
    "mean_ratings = []\n",
    "std_ratings = []\n",
    "for user_id in user_reviews_count[user_reviews_count > 1].index:\n",
    "    mean_r, std_r = find_mean_std_review_rating(user_id, \"reviewer_id\")\n",
    "    mean_ratings.append(mean_r)\n",
    "    std_ratings.append(std_r)\n",
    "mean_ratings = np.array(mean_ratings)\n",
    "std_ratings = np.array(std_ratings)\n",
    "x = np.array(user_reviews_count[user_reviews_count > 1])\n",
    "plt.errorbar(x, mean_ratings, yerr=std_ratings, fmt=\"o\")"
   ]
  },
  {
   "cell_type": "markdown",
   "id": "6ad63d4c",
   "metadata": {},
   "source": [
    "The graph above shows average review rating (y-axis) for users with x number of reviews.\n",
    "\n",
    "We can see that all users with more than two reviews have given an average rating of 5.0 with a standard deviation of 0. While there may be a few coffee table enthusiasts, it seems extremely unlikely that the majority of these users are writing authentic reviews."
   ]
  },
  {
   "cell_type": "markdown",
   "id": "d94a7f0d",
   "metadata": {},
   "source": [
    "#### Question 2.\n",
    "\n",
    "In no more than 500 words, explain how you might develop a system to identify potentially fake reviews in this dataset.\n",
    "\n",
    "You could consider rule-based methods as well as both supervised and unsupervised machine learning techniques as part of your answer."
   ]
  },
  {
   "cell_type": "markdown",
   "id": "a4b3cf30",
   "metadata": {},
   "source": [
    "_Your answer:_\n",
    "\n",
    "\n"
   ]
  },
  {
   "cell_type": "markdown",
   "id": "42780896-6824-4ef9-af0f-1f4ea10dd892",
   "metadata": {},
   "source": [
    "First, I would implement a rule-based algorithm to flag users with fake reviews. If a user has more than three reviews and a mean rating of 5 with a standard deviation of 0, we identify their reviews as fake. Additionally, if a user has written multiple reviews in quick succession, we would regard their reviews as potentially fake. Similarly, if a product has over 150 reviews, a high mean rating, and a low standard deviation compared to other products, we would flag this product as having received fake reviews and further investigate. We could also consider the mean elapsed time between reviews and the standard deviation.\n",
    "\n",
    "To use a machine learning model to identify potentially fake reviews, first, we need to transform our data into an appropriate form. We consider five features: product_id, reviewer_id, review_rating, review_text, and review_date. We should also think about whether to examine reviews individually or users. We could also consider products and identify which products have more fake reviews. However, the last approach would not help us to identify the potentially fake reviews.\n",
    "\n",
    "We could create review vectors by embedding review_text as a 1 or 0, depending on whether the review has text. Since the proportion of reviews with text is small, this is suitable. We could also embed review_date as a day of the year, e.g. 2022-01-03 as 3. This embedding is appropriate as the dataset is limited to one year.\n",
    "\n",
    "We could also create user vectors by considering the following features for each reviewer: mean rating, standard deviation for the ratings, mean time between consecutive reviews, standard deviation for the time, and whether the user has written a text review. This numerical representation of a reviewer is appropriate as it captures the essential information.\n",
    "\n",
    "We could use Isolation Forest to detect fake reviews. Isolation Forest is an unsupervised learning algorithm for outlier detection. It uses an ensemble of Isolation Trees to find anomalies in a dataset. Here, we assume that fake reviews are anomalies in the dataset. An Isolation Tree is a decision tree that isolates samples based on randomly selected features and a random split point. The algorithm assigns a value of -1 to outliers and 1 to normal points. It is included in the scikit-learn library and is computationally efficient to implement.\n",
    "\n",
    "We could combine this method with a clustering algorithm, such as K-means clustering. We would identify different groups in the dataset, potentially identifying a cluster of fake reviews. We would examine each cluster and combine the results from the two previous methods to determine which group contains the fake reviews. Scikit-learn has an implementation of K-means clustering that we could use."
   ]
  },
  {
   "cell_type": "markdown",
   "id": "1edd180b",
   "metadata": {},
   "source": [
    "#### Question 3.\n",
    "\n",
    "Implement one of the methods you have suggested in Question 2 using the dataset. Please provide a brief written explanation of the pros and cons of this method, based on the results you get."
   ]
  },
  {
   "cell_type": "markdown",
   "id": "e2cb5060",
   "metadata": {},
   "source": [
    "_Your answer:_"
   ]
  },
  {
   "cell_type": "code",
   "execution_count": 312,
   "id": "c6eafa1a",
   "metadata": {},
   "outputs": [],
   "source": [
    "from sklearn.ensemble import IsolationForest\n",
    "\n",
    "data_model = data.copy()\n",
    "data_model[\"review_text\"] = data[\"review_text\"].apply(lambda x: 0 if x is None else 1)\n",
    "data_model[\"review_date\"] = data_model[\"review_date\"].apply(lambda x: x.dayofyear)\n",
    "data_model = data_model.drop(columns=[\"review_id\"])\n",
    "\n",
    "iso = IsolationForest()\n",
    "outliers = iso.fit_predict(data_model.to_numpy())\n",
    "data_model[\"ISO\"] = outliers"
   ]
  },
  {
   "cell_type": "code",
   "execution_count": 313,
   "id": "4d7a943d",
   "metadata": {},
   "outputs": [
    {
     "name": "stdout",
     "output_type": "stream",
     "text": [
      "      product_id  reviewer_id  review_rating  review_text  review_date  ISO\n",
      "0              6          529            5.0            0            1   -1\n",
      "1             11           97            5.0            0            1   -1\n",
      "2             18         1371            2.0            1            1   -1\n",
      "3              5          399            5.0            0            1   -1\n",
      "4             15         1214            2.0            0            1   -1\n",
      "...          ...          ...            ...          ...          ...  ...\n",
      "3237          20           97            5.0            0          363   -1\n",
      "3238          11         2668            5.0            0          363   -1\n",
      "3239          17         2922            5.0            0          364   -1\n",
      "3241           4         2994            1.0            0          364   -1\n",
      "3242           2         2597            4.0            0          364   -1\n",
      "\n",
      "[1546 rows x 6 columns]\n",
      "reviewer_id\n",
      "100     7\n",
      "127     6\n",
      "3       5\n",
      "97      5\n",
      "10      4\n",
      "       ..\n",
      "369     1\n",
      "488     1\n",
      "258     1\n",
      "1249    1\n",
      "2597    1\n",
      "Name: count, Length: 1502, dtype: int64\n",
      "review_rating\n",
      "1.0    555\n",
      "5.0    400\n",
      "4.0    223\n",
      "3.0    191\n",
      "2.0    177\n",
      "Name: count, dtype: int64\n",
      "review_text\n",
      "0    1253\n",
      "1     293\n",
      "Name: count, dtype: int64\n",
      "review_date\n",
      "182    44\n",
      "5      12\n",
      "21     12\n",
      "4      10\n",
      "61     10\n",
      "       ..\n",
      "273     1\n",
      "237     1\n",
      "195     1\n",
      "267     1\n",
      "193     1\n",
      "Name: count, Length: 358, dtype: int64\n"
     ]
    }
   ],
   "source": [
    "print(data_model[data_model[\"ISO\"] == -1])\n",
    "print(data_model[data_model[\"ISO\"] == -1][\"reviewer_id\"].value_counts())\n",
    "print(data_model[data_model[\"ISO\"] == -1][\"review_rating\"].value_counts())\n",
    "print(data_model[data_model[\"ISO\"] == -1][\"review_text\"].value_counts())\n",
    "print(data_model[data_model[\"ISO\"] == -1][\"review_date\"].value_counts())"
   ]
  },
  {
   "cell_type": "code",
   "execution_count": 314,
   "id": "272b6af7",
   "metadata": {},
   "outputs": [
    {
     "name": "stdout",
     "output_type": "stream",
     "text": [
      "reviewer_id\n",
      "399     26\n",
      "902     26\n",
      "100     26\n",
      "1496    25\n",
      "1000    21\n",
      "        ..\n",
      "1010     2\n",
      "904      2\n",
      "1484     2\n",
      "1825     2\n",
      "52       2\n",
      "Name: count, Length: 78, dtype: int64\n"
     ]
    }
   ],
   "source": [
    "print(user_reviews_count[user_reviews_count > 1])"
   ]
  },
  {
   "cell_type": "code",
   "execution_count": 315,
   "id": "9e4c4a50",
   "metadata": {},
   "outputs": [],
   "source": [
    "mean_ratings = []\n",
    "std_ratings = []\n",
    "mean_times = []\n",
    "std_times = []\n",
    "has_text_lst = []\n",
    "for user_id in data[\"reviewer_id\"].unique():\n",
    "    mean_r, std_r = find_mean_std_review_rating(user_id, \"reviewer_id\")\n",
    "    mean_ratings.append(mean_r)\n",
    "    std_ratings.append(std_r)\n",
    "    mean_t, std_t = find_mean_std_time_between_reviews(user_id, \"reviewer_id\")\n",
    "    mean_times.append(mean_t)\n",
    "    std_times.append(std_t)\n",
    "    has_text = False\n",
    "    for review in data[data[\"reviewer_id\"] == user_id].iterrows():\n",
    "        if review[1][\"review_text\"] is not None:\n",
    "            has_text = True\n",
    "    if has_text:\n",
    "        has_text_lst.append(1)\n",
    "    else:\n",
    "        has_text_lst.append(0)\n",
    "        \n",
    "data_model = np.array([mean_ratings, std_ratings, mean_times, std_times, has_text_lst]).swapaxes(0, 1)\n",
    "iso = IsolationForest()\n",
    "outliers = iso.fit_predict(data_model)\n",
    "data_model = np.concatenate([data[\"reviewer_id\"].unique().reshape(-1, 1), data_model, outliers.reshape(-1, 1)], axis=1)"
   ]
  },
  {
   "cell_type": "code",
   "execution_count": 316,
   "id": "c4d7175d",
   "metadata": {},
   "outputs": [
    {
     "name": "stdout",
     "output_type": "stream",
     "text": [
      "      reviewer_id  mean_r  std_r      mean_t     std_t  has_text  ISO\n",
      "1            97.0     5.0    0.0   24.133333  20.41851       0.0 -1.0\n",
      "2          1371.0     2.0    0.0  365.000000   0.00000       1.0 -1.0\n",
      "3           399.0     5.0    0.0   13.520000  15.95273       0.0 -1.0\n",
      "4          1214.0     2.0    0.0  365.000000   0.00000       0.0 -1.0\n",
      "5          1335.0     3.0    0.0  365.000000   0.00000       0.0 -1.0\n",
      "...           ...     ...    ...         ...       ...       ...  ...\n",
      "2758       2027.0     2.0    0.0  365.000000   0.00000       0.0 -1.0\n",
      "2772        888.0     3.0    0.0  365.000000   0.00000       0.0 -1.0\n",
      "2775       1558.0     1.0    0.0  365.000000   0.00000       1.0 -1.0\n",
      "2779        817.0     2.0    0.0  365.000000   0.00000       0.0 -1.0\n",
      "2784       1649.0     3.0    0.0  365.000000   0.00000       0.0 -1.0\n",
      "\n",
      "[702 rows x 7 columns]\n",
      "mean_r\n",
      "5.0    215\n",
      "3.0    192\n",
      "2.0    176\n",
      "1.0     92\n",
      "4.0     21\n",
      "3.5      3\n",
      "4.5      2\n",
      "2.5      1\n",
      "Name: count, dtype: int64\n",
      "std_r\n",
      "0.0    693\n",
      "1.5      4\n",
      "1.0      2\n",
      "0.5      2\n",
      "2.0      1\n",
      "Name: count, dtype: int64\n",
      "mean_t\n",
      "365.000000    624\n",
      "191.000000     14\n",
      "251.000000      8\n",
      "60.000000       6\n",
      "44.666667       1\n",
      "20.333333       1\n",
      "76.666667       1\n",
      "51.333333       1\n",
      "94.666667       1\n",
      "4.000000        1\n",
      "36.000000       1\n",
      "32.000000       1\n",
      "15.235294       1\n",
      "93.000000       1\n",
      "88.333333       1\n",
      "24.133333       1\n",
      "55.750000       1\n",
      "47.333333       1\n",
      "165.000000      1\n",
      "49.666667       1\n",
      "73.333333       1\n",
      "143.000000      1\n",
      "32.333333       1\n",
      "38.333333       1\n",
      "112.000000      1\n",
      "46.000000       1\n",
      "45.000000       1\n",
      "39.285714       1\n",
      "54.000000       1\n",
      "62.333333       1\n",
      "13.520000       1\n",
      "24.692308       1\n",
      "24.615385       1\n",
      "59.333333       1\n",
      "23.600000       1\n",
      "19.937500       1\n",
      "14.080000       1\n",
      "18.555556       1\n",
      "14.166667       1\n",
      "27.750000       1\n",
      "17.315789       1\n",
      "27.666667       1\n",
      "18.210526       1\n",
      "13.800000       1\n",
      "98.000000       1\n",
      "18.500000       1\n",
      "14.157895       1\n",
      "16.100000       1\n",
      "28.000000       1\n",
      "326.000000      1\n",
      "255.000000      1\n",
      "71.000000       1\n",
      "237.000000      1\n",
      "40.000000       1\n",
      "Name: count, dtype: int64\n",
      "std_t\n",
      "0.000000     665\n",
      "20.418510      1\n",
      "22.461077      1\n",
      "16.779617      1\n",
      "24.329373      1\n",
      "29.376862      1\n",
      "20.313105      1\n",
      "36.307330      1\n",
      "56.405280      1\n",
      "29.679772      1\n",
      "15.869058      1\n",
      "86.395730      1\n",
      "30.652170      1\n",
      "15.352117      1\n",
      "48.057836      1\n",
      "56.103080      1\n",
      "40.185680      1\n",
      "18.909139      1\n",
      "33.236526      1\n",
      "8.831761       1\n",
      "16.849036      1\n",
      "15.400831      1\n",
      "15.952730      1\n",
      "21.987355      1\n",
      "39.181115      1\n",
      "16.918103      1\n",
      "20.664946      1\n",
      "19.661093      1\n",
      "10.714178      1\n",
      "21.032309      1\n",
      "14.761060      1\n",
      "26.198362      1\n",
      "13.867997      1\n",
      "21.445020      1\n",
      "14.181452      1\n",
      "11.655042      1\n",
      "18.980253      1\n",
      "43.622115      1\n",
      "Name: count, dtype: int64\n",
      "has_text\n",
      "0.0    409\n",
      "1.0    293\n",
      "Name: count, dtype: int64\n"
     ]
    }
   ],
   "source": [
    "output = pd.DataFrame(data_model, columns=[\"reviewer_id\", \"mean_r\", \"std_r\", \"mean_t\", \"std_t\", \"has_text\", \"ISO\"])\n",
    "print(output[output[\"ISO\"] == -1])\n",
    "print(output[output[\"ISO\"] == -1][\"mean_r\"].value_counts())\n",
    "print(output[output[\"ISO\"] == -1][\"std_r\"].value_counts())\n",
    "print(output[output[\"ISO\"] == -1][\"mean_t\"].value_counts())\n",
    "print(output[output[\"ISO\"] == -1][\"std_t\"].value_counts())\n",
    "print(output[output[\"ISO\"] == -1][\"has_text\"].value_counts())"
   ]
  },
  {
   "cell_type": "markdown",
   "id": "eb2b42e9",
   "metadata": {},
   "source": [
    "### Advantages of Isolation Forest\n",
    "- It is computationally efficient. It has linear complexity and low memory usage.\n",
    "- As it is an unsupervised clustering algorithm, it does not need labelled data.\n",
    "- The algorithm selects users with high mean ratings and low std as outliers. As we discussed in the exploration, it is likely users with many 5-star ratings are likely to be writing fake reviews.\n",
    "\n",
    "### Disadvantages of Isolation Forest\n",
    "- We assume that most reviews are real and that fake reviews are outliers, which may not be the case.\n",
    "- The contamination rate is an important parameter of the Isolation Forest algorithm. It represents the percentage of the dataset that is anomalous. However, we do not know what percentage of the reviews are fake.\n",
    "- Since reviews/users with text and negative reviews are a small percentage of the dataset, the algorithm regards them as outliers.\n",
    "- The algorithm does not flag up reviews from users with multiple reviews. Perhaps an additional feature we should consider in the user vector is the number of reviews the user has."
   ]
  }
 ],
 "metadata": {
  "jupytext": {
   "cell_metadata_filter": "-all",
   "notebook_metadata_filter": "-all"
  },
  "kernelspec": {
   "display_name": "Python 3",
   "language": "python",
   "name": "python3"
  },
  "language_info": {
   "codemirror_mode": {
    "name": "ipython",
    "version": 3
   },
   "file_extension": ".py",
   "mimetype": "text/x-python",
   "name": "python",
   "nbconvert_exporter": "python",
   "pygments_lexer": "ipython3",
   "version": "3.11.4"
  }
 },
 "nbformat": 4,
 "nbformat_minor": 5
}
